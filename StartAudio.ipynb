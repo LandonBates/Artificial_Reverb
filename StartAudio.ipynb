{
 "cells": [
  {
   "cell_type": "code",
   "execution_count": 6,
   "id": "cf053101",
   "metadata": {},
   "outputs": [],
   "source": [
    "from pynq.overlays.base import BaseOverlay\n",
    "base = BaseOverlay(\"base.bit\")"
   ]
  },
  {
   "cell_type": "code",
   "execution_count": 9,
   "id": "31032ce1",
   "metadata": {},
   "outputs": [],
   "source": [
    "pAudio = base.audio\n",
    "pAudio.set_volume(60)\n",
    "pAudio.select_line_in()"
   ]
  },
  {
   "cell_type": "code",
   "execution_count": null,
   "id": "eb840ac3",
   "metadata": {},
   "outputs": [],
   "source": [
    "while(1):\n",
    "    pAudio.bypass(seconds=5)"
   ]
  },
  {
   "cell_type": "code",
   "execution_count": 7,
   "id": "16314293",
   "metadata": {},
   "outputs": [],
   "source": [
    "pAudio.record(1)\n",
    "pAudio.save(\"r1.wav\")"
   ]
  },
  {
   "cell_type": "code",
   "execution_count": null,
   "id": "b020b4d9",
   "metadata": {},
   "outputs": [],
   "source": []
  },
  {
   "cell_type": "code",
   "execution_count": null,
   "id": "226227d8",
   "metadata": {},
   "outputs": [],
   "source": []
  },
  {
   "cell_type": "code",
   "execution_count": null,
   "id": "8b4521bd",
   "metadata": {},
   "outputs": [],
   "source": []
  }
 ],
 "metadata": {
  "kernelspec": {
   "display_name": "Python 3 (ipykernel)",
   "language": "python",
   "name": "python3"
  },
  "language_info": {
   "codemirror_mode": {
    "name": "ipython",
    "version": 3
   },
   "file_extension": ".py",
   "mimetype": "text/x-python",
   "name": "python",
   "nbconvert_exporter": "python",
   "pygments_lexer": "ipython3",
   "version": "3.10.4"
  }
 },
 "nbformat": 4,
 "nbformat_minor": 5
}
